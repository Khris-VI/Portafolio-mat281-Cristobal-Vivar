{
 "cells": [
  {
   "cell_type": "markdown",
   "metadata": {},
   "source": [
    "<img src=\"images/usm.jpg\" width=\"480\" height=\"240\" align=\"left\"/>"
   ]
  },
  {
   "cell_type": "markdown",
   "metadata": {},
   "source": [
    "# MAT281 - Laboratorio N°02\n",
    "\n",
    "## Objetivos de la clase\n",
    "\n",
    "* Reforzar los conceptos básicos de numpy."
   ]
  },
  {
   "cell_type": "markdown",
   "metadata": {},
   "source": [
    "## Contenidos\n",
    "\n",
    "* [Problema 01](#p1)\n",
    "* [Problema 02](#p2)\n",
    "* [Problema 03](#p3)"
   ]
  },
  {
   "cell_type": "code",
   "execution_count": 1,
   "metadata": {},
   "outputs": [],
   "source": [
    "# importar libreria: numpy\n",
    "import numpy as np\n",
    "import time\n",
    "import sys"
   ]
  },
  {
   "cell_type": "markdown",
   "metadata": {},
   "source": [
    "<a id='p1'></a>\n",
    "\n",
    "## Problema 01\n",
    "\n",
    "Una **media móvil simple** (SMA) es el promedio de los últimos $k$ datos anteriores, es decir, sea $a_1$,$a_2$,...,$a_n$ un arreglo $n$-dimensional, entonces la SMA se define por:\n",
    "\n",
    "$$sma(k) =\\dfrac{1}{k}(a_{n}+a_{n-1}+...+a_{n-(k-1)}) = \\dfrac{1}{k}\\sum_{i=0}^{k-1}a_{n-i}  $$ \n",
    "\n",
    "\n",
    "Por otro lado podemos definir el SMA con una venta móvil de $n$ si el resultado nos retorna la el promedio ponderado avanzando de la siguiente forma:\n",
    "\n",
    "* $a = [1,2,3,4,5]$, la SMA con una ventana de $n=2$ sería:\n",
    "\n",
    "\n",
    "    * sma(2): [mean(1,2),mean(2,3),mean(3,4),mean(4,5)] = [1.5, 2.5, 3.5, 4.5]\n",
    "    * sma(3): [mean(1,2,3),mean(2,3,4),mean(3,4,5)] = [2.,3.,4.]\n",
    "\n",
    "\n",
    "Implemente una función llamada `sma` cuyo input sea un arreglo unidimensional $a$ y un entero $n$, y cuyo ouput retorne el valor de la media móvil simple sobre el arreglo de la siguiente forma:\n",
    "\n",
    "* **Ejemplo**: *sma([5,3,8,10,2,1,5,1,0,2], 2)* = $[4. , 5.5, 9. , 6. , 1.5, 3. , 3. , 0.5, 1. ]$\n",
    "\n",
    "En este caso, se esta calculando el SMA para un arreglo con una ventana de $n=2$.\n",
    "\n",
    "**Hint**: utilice la función `numpy.cumsum`"
   ]
  },
  {
   "cell_type": "markdown",
   "metadata": {},
   "source": [
    "### Definir Función"
   ]
  },
  {
   "cell_type": "code",
   "execution_count": 2,
   "metadata": {},
   "outputs": [],
   "source": [
    "def sma(a:np.array,n:int)->np.array:\n",
    "    \"\"\"\n",
    "    sma(a,n)\n",
    "\n",
    "    Cálculo de la media móvil sobre el arreglo a, con ventana n.\n",
    "\n",
    "    Parameters\n",
    "    ----------\n",
    "    a : np.array\n",
    "        Arreglo al cual se le calculará la media móvil\n",
    "        \n",
    "    n : int\n",
    "        Ventana móvil de la SMA \n",
    "    Returns\n",
    "    -------\n",
    "    output : np.array\n",
    "        Arreglo con las medias moviles de a \n",
    "        \n",
    "    Examples\n",
    "    --------\n",
    "    >>> sma(np.array([1,2,3,4,5]),n=2)\n",
    "    array([1.5, 2.5, 3.5, 4.5])\n",
    "    \n",
    "    >>> sma(np.array([1,2,3,4,5]),n=2)\n",
    "    array([1.5, 2.5, 3.5, 4.5])\n",
    "    \"\"\"\n",
    "    prom=[]                            #Definición del arreglo de salida\n",
    "    for i in range((len(a)-(n-1))):    #iteración solo sobre los primeros len(a)-(n-1) términos pues no es necesario iterar más\n",
    "        prom.append(np.mean(a[i:i+n])) #Se agrega el promedio simple de los n elementos agrupados\n",
    "    return np.array(prom)              #Se retorna el arreglo construido"
   ]
  },
  {
   "cell_type": "markdown",
   "metadata": {},
   "source": [
    "### Verificar Ejemplos"
   ]
  },
  {
   "cell_type": "code",
   "execution_count": 3,
   "metadata": {},
   "outputs": [],
   "source": [
    "# ejemplo 01\n",
    "a = np.array([1,2,3,4,5])\n",
    "np.testing.assert_array_equal(\n",
    "    sma(a, n=2),\n",
    "    np.array([1.5, 2.5, 3.5, 4.5])\n",
    ")"
   ]
  },
  {
   "cell_type": "code",
   "execution_count": 4,
   "metadata": {},
   "outputs": [],
   "source": [
    "# ejemplo 02\n",
    "a =np.array([5,3,8,10,2,1,5,1,0,2])\n",
    "\n",
    "np.testing.assert_array_equal(\n",
    "    sma(a, n=2),\n",
    "    np.array([4. , 5.5, 9. , 6. , 1.5, 3. , 3. , 0.5, 1. ])\n",
    ")"
   ]
  },
  {
   "cell_type": "markdown",
   "metadata": {},
   "source": [
    "<a id='p2'></a>\n",
    "\n",
    "## Problema 02\n",
    "\n",
    "La función **strides($a,n,p$)**, corresponde a transformar un arreglo unidimensional $a$ en una matriz de $n$ columnas, en el cual las filas se van construyendo desfasando la posición del arreglo en $p$ pasos hacia adelante.\n",
    "\n",
    "* Para el arreglo unidimensional $a$ = [ 1,  2,  3,  4,  5,  6,  7,  8,  9, 10], la función strides($a,4,2$), corresponde a crear una matriz de $4$ columnas, cuyos desfaces hacia adelante se hacen de dos en dos. \n",
    "\n",
    "El resultado tendría que ser algo así:$$\\begin{pmatrix}\n",
    " 1& 2 &3 &4 \\\\ \n",
    " 3&  4&5&6 \\\\ \n",
    " 5& 6 &7 &8 \\\\ \n",
    " 7& 8 &9 &10 \\\\ \n",
    "\\end{pmatrix}$$\n",
    "\n",
    "\n",
    "Implemente una función llamada `strides(a,4,2)` cuyo input sea un arreglo unidimensional y retorne la matriz de $4$ columnas, cuyos desfaces hacia adelante se hacen de dos en dos. \n",
    "\n",
    "* **Ejemplo**: *strides($a$,4,2)* =$\\begin{pmatrix}\n",
    " 1& 2 &3 &4 \\\\ \n",
    " 3&  4&5&6 \\\\ \n",
    " 5& 6 &7 &8 \\\\ \n",
    " 7& 8 &9 &10 \\\\ \n",
    "\\end{pmatrix}$\n"
   ]
  },
  {
   "cell_type": "markdown",
   "metadata": {},
   "source": [
    "### Definir Función"
   ]
  },
  {
   "cell_type": "code",
   "execution_count": 5,
   "metadata": {},
   "outputs": [],
   "source": [
    "def strides(a:np.array,n:int,p:int)->np.array:\n",
    "    \"\"\"\n",
    "    strides(a,n,p)\n",
    "\n",
    "    Construcción de matriz desfasada de n columnas con paso p a partir de a\n",
    "\n",
    "    Parameters\n",
    "    ----------\n",
    "    a : np.array\n",
    "        Matriz de la cual construir la matriz desfasada\n",
    "    n : int\n",
    "        Número de columnas de la matriz desfasada\n",
    "    p : int \n",
    "        paso del desface de la matriz a construir\n",
    "        \n",
    "    Returns\n",
    "    -------\n",
    "    output : np.array\n",
    "        Matriz desfasada de n columnas y de paso p\n",
    "        \n",
    "    Examples\n",
    "    --------\n",
    "    >>> strides(np.array([ 1,  2,  3,  4,  5,  6,  7,  8,  9, 10]),4,2)\n",
    "    array([[ 1.,  2.,  3.,  4.],\n",
    "           [ 3.,  4.,  5.,  6.],\n",
    "           [ 5.,  6.,  7.,  8.],\n",
    "           [ 7.,  8.,  9., 10.]])\n",
    "    \n",
    "    >>> strides(np.array([ 1,  2,  3,  4,  5,  6,  7,  8,  9, 10]),4,3)\n",
    "    array([[ 1.,  2.,  3.,  4.],\n",
    "           [ 4.,  5.,  6.,  7.],\n",
    "           [ 7.,  8.,  9., 10.]])\n",
    "    \"\"\"\n",
    "    fil=int((len(a)-n)/p + 1) #Se calcula el número de filas que debe tener la matriz desfasada\n",
    "    mat=np.zeros((fil,n))     #Se crea una matriz de fil filas y n columnas en donde ir construyendo la matriz deseada\n",
    "    for i in range(0,fil):    #Se itera sobre las filas de mat\n",
    "        mat[i,:]=a[i*p:n+i*p] #Se construyen las filas siguiendo el criterio de desface\n",
    "    return mat                #Se retorna la matriz desfasada "
   ]
  },
  {
   "cell_type": "markdown",
   "metadata": {},
   "source": [
    "### Verificar Ejemplos"
   ]
  },
  {
   "cell_type": "code",
   "execution_count": 6,
   "metadata": {},
   "outputs": [],
   "source": [
    "# ejemplo 01\n",
    "a = np.array([ 1,  2,  3,  4,  5,  6,  7,  8,  9, 10])\n",
    "n=4\n",
    "p=2\n",
    "\n",
    "np.testing.assert_array_equal(\n",
    "    strides(a,n,p),\n",
    "    np.array([\n",
    "       [ 1,  2,  3,  4],\n",
    "       [ 3,  4,  5,  6],\n",
    "       [ 5,  6,  7,  8],\n",
    "       [ 7,  8,  9, 10]])\n",
    ")"
   ]
  },
  {
   "cell_type": "code",
   "execution_count": 7,
   "metadata": {},
   "outputs": [],
   "source": [
    "# ejemplo 02\n",
    "a = np.array([ 1,  2,  3,  4,  5,  6,  7,  8,  9, 10])\n",
    "n=4\n",
    "p=3\n",
    "np.testing.assert_array_equal(\n",
    "    strides(a,n,p),\n",
    "    np.array([[ 1.,  2.,  3.,  4.],\n",
    "              [ 4.,  5.,  6.,  7.],\n",
    "              [ 7.,  8.,  9., 10.]])\n",
    ")"
   ]
  },
  {
   "cell_type": "markdown",
   "metadata": {},
   "source": [
    "<a id='p3'></a>\n",
    "\n",
    "## Problema 03\n",
    "\n",
    "\n",
    "Un **cuadrado mágico** es una matriz de tamaño $n \\times n$ de números enteros positivos tal que \n",
    "la suma de los números por columnas, filas y diagonales principales sea la misma. Usualmente, los números empleados para rellenar las casillas son consecutivos, de 1 a $n^2$, siendo $n$ el número de columnas y filas del cuadrado mágico.\n",
    "\n",
    "Si los números son consecutivos de 1 a $n^2$, la suma de los números por columnas, filas y diagonales principales \n",
    "es igual a : $$M_{n} = \\dfrac{n(n^2+1)}{2}$$\n",
    "Por ejemplo, \n",
    "\n",
    "* $A= \\begin{pmatrix}\n",
    " 4& 9 &2 \\\\ \n",
    " 3&  5&7 \\\\ \n",
    " 8& 1 &6 \n",
    "\\end{pmatrix}$,\n",
    "es un cuadrado mágico.\n",
    "\n",
    "* $B= \\begin{pmatrix}\n",
    " 4& 2 &9 \\\\ \n",
    " 3&  5&7 \\\\ \n",
    " 8& 1 &6 \n",
    "\\end{pmatrix}$, no es un cuadrado mágico.\n",
    "\n",
    "Implemente una función llamada `es_cudrado_magico` cuyo input sea una matriz cuadrada de tamaño $n$ con números consecutivos de $1$ a $n^2$ y cuyo ouput retorne *True* si es un cuadrado mágico o 'False', en caso contrario\n",
    "\n",
    "* **Ejemplo**: *es_cudrado_magico($A$)* = True, *es_cudrado_magico($B$)* = False\n",
    "\n",
    "**Hint**: Cree una función que valide la mariz es cuadrada y  que sus números son consecutivos del 1 a $n^2$."
   ]
  },
  {
   "cell_type": "markdown",
   "metadata": {},
   "source": [
    "### Definir Función"
   ]
  },
  {
   "cell_type": "code",
   "execution_count": 8,
   "metadata": {},
   "outputs": [],
   "source": [
    "def validar(A:np.array)->bool:\n",
    "    \"\"\"\n",
    "    validar(A)\n",
    "\n",
    "    Validación que la matriz A es cuadrada y solo contiene números consecutivos \n",
    "\n",
    "    Parameters\n",
    "    ----------\n",
    "    A : np.array\n",
    "        Matriz a validar\n",
    "\n",
    "    Returns\n",
    "    -------\n",
    "    output : bool\n",
    "        Valor de verdad de la proposición: \"A es una matriz cuadrada y solo contiene numeros consecutivos del 1 al n**2\"\n",
    "        \n",
    "    Examples\n",
    "    --------\n",
    "    >>> validar(np.array([[4,9,2],\n",
    "                          [3,5,7],\n",
    "                          [8,1,6]])\n",
    "                )\n",
    "    True\n",
    "    >>> validar(np.array([[5,9,2],\n",
    "                          [3,5,7],\n",
    "                          [8,1,6]])\n",
    "                )\n",
    "    False\n",
    "    \"\"\"\n",
    "    cjto=set()                         #Definición de conjunto vacío \n",
    "    if np.shape(A)[0]==np.shape(A)[1]: #Chequeo de si la matriz es cuadrada\n",
    "        n=np.shape(A)[0]**2            #Definición de variable que almacena el tamaño al cuadrado de la matriz \n",
    "        for i in A:                    #iteración sobre las filas de A\n",
    "            for j in i:                #iteración sobre las columnas de A\n",
    "                if j <= n and j > 0:   #Verificación de que el elemento j pertenece al conjunto {1,2,...,n**2}\n",
    "                    cjto.add(j)        #Construcción del conjunto a verificar igualdad con {1,2,...,n**2}\n",
    "        if len(cjto) == n:             #Si el cjto tiene la misma cantidad de elementos que #{1,2,...,n**2} entonces son iguales\n",
    "            return True                #Como los cjtos son iguales, se retorna True\n",
    "        else:\n",
    "            return False               #Si cjto no tiene la misma cantidad, se retorna False\n",
    "    else:\n",
    "        return False                   #Si la matriz no era cuadrada en un principio, se retorna Falso "
   ]
  },
  {
   "cell_type": "code",
   "execution_count": 9,
   "metadata": {},
   "outputs": [],
   "source": [
    "def es_cudrado_magico(A:np.array)->bool:\n",
    "    \"\"\"\n",
    "    es_cudrado_magico(A)\n",
    "\n",
    "    Verificación de si A es un cuadrado mágico\n",
    "\n",
    "    Parameters\n",
    "    ----------\n",
    "    A : np.array\n",
    "        Matriz a verificar \n",
    "\n",
    "    Returns\n",
    "    -------\n",
    "    output : bool\n",
    "        Valor de verdad de la proposición: \"A es un cuadrado mágico\"\n",
    "        \n",
    "    Examples\n",
    "    --------\n",
    "    >>> es_cudrado_magico(np.array([[2,9,4],\n",
    "                                    [3,5,7],\n",
    "                                    [8,1,6]])\n",
    "                          )\n",
    "    False\n",
    "    \n",
    "    >>> es_cudrado_magico(np.array([[17,24,1,8,15],\n",
    "                                    [23,5,7,14,16],\n",
    "                                    [4,6,13,20,22],\n",
    "                                    [10,12,19,21,3],\n",
    "                                    [11,18,25,2,9]])\n",
    "                          )\n",
    "    True\n",
    "    \"\"\"\n",
    "    if validar(A):                   #Se chequea si la matriz es cuadrada y solo contiene numeros consecutivos del 1 al n**2\n",
    "        n=np.shape(A)[0]\n",
    "        M_n=n*(n**2 +1)/2            #Definición de la ctte mágica\n",
    "        if np.trace(A)!=M_n:         #Chequeo de si la traza=ctte mágica\n",
    "            return False\n",
    "        if np.trace(A[::-1]) != M_n: #Chequeo de si la traza secundaria=ctte mágica\n",
    "            return False\n",
    "        for i in range(n):           #iteración para chequear la suma de las filas y columnas\n",
    "            if np.sum(A[i])!= M_n:   #Chequeo de suma de filas =ctte mágica\n",
    "                return False\n",
    "            if np.sum(A[:,i]) != M_n:#Chequeo de suma de columnas =ctte mágica\n",
    "                return False\n",
    "        return True                  #Si la matriz pasa todos los chequeos, es un cuadrado mágico y se retorna True\n",
    "    else:\n",
    "        return False                 #Si no, se retorna False"
   ]
  },
  {
   "cell_type": "markdown",
   "metadata": {},
   "source": [
    "### Verificar Ejemplos"
   ]
  },
  {
   "cell_type": "code",
   "execution_count": 10,
   "metadata": {},
   "outputs": [],
   "source": [
    "# ejemplo 01\n",
    "A = np.array([[4,9,2],[3,5,7],[8,1,6]])\n",
    "assert es_cudrado_magico(A) == True, \"ejemplo 01 incorrecto\""
   ]
  },
  {
   "cell_type": "code",
   "execution_count": 11,
   "metadata": {},
   "outputs": [],
   "source": [
    "# ejemplo 02\n",
    "B = np.array([[4,2,9],[3,5,7],[8,1,6]])\n",
    "assert es_cudrado_magico(B) == False, \"ejemplo 02 incorrecto\""
   ]
  },
  {
   "cell_type": "code",
   "execution_count": 12,
   "metadata": {},
   "outputs": [],
   "source": [
    "#Profe acá le dejo algunas matrices que usé para probar mi función:\n",
    "\n",
    "A=np.array([        #Este si es cuadrado mágico\n",
    "    [4,9,2],\n",
    "    [3,5,7],\n",
    "    [8,1,6]\n",
    "])\n",
    "B=np.array([        #Este no es cuadrado mágico\n",
    "    [2,9,4],\n",
    "    [3,5,7],\n",
    "    [8,1,6]\n",
    "])\n",
    "C=np.array([        #Este si es cuadrado mágico\n",
    "    [5,9,2],\n",
    "    [3,5,7],\n",
    "    [8,1,6]\n",
    "])\n",
    "D=np.array([        #Este si es cuadrado mágico\n",
    "[17,24,1,8,15],\n",
    "[23,5,7,14,16],\n",
    "[4,6,13,20,22],\n",
    "[10,12,19,21,3],\n",
    "[11,18,25,2,9],\n",
    "])\n",
    "E=np.array([         #Este si es cuadrado mágico\n",
    "[30,39,48,1,10,19,28],\n",
    "[38,47,7,9,18,27,29],\n",
    "[46,6,8,17,26,35,37],\n",
    "[5,14,16,25,34,36,45],\n",
    "[13,15,24,33,42,44,4],\n",
    "[21,23,32,41,43,3,12],\n",
    "[22,31,40,49,2,11,20]\n",
    "])\n",
    "F=np.array([          #Este no es cuadrado mágico\n",
    "[30,39,48,1,10,19,28],\n",
    "[38,47,7,9,18,27,29],\n",
    "[46,6,8,17,26,35,37],\n",
    "[5,14,16,25,33,36,45],\n",
    "[13,15,24,33,42,44,4],\n",
    "[21,23,32,41,43,3,12],\n",
    "[22,31,40,49,2,11,20]\n",
    "])"
   ]
  }
 ],
 "metadata": {
  "kernelspec": {
   "display_name": "Python 3",
   "language": "python",
   "name": "python3"
  },
  "language_info": {
   "codemirror_mode": {
    "name": "ipython",
    "version": 3
   },
   "file_extension": ".py",
   "mimetype": "text/x-python",
   "name": "python",
   "nbconvert_exporter": "python",
   "pygments_lexer": "ipython3",
   "version": "3.7.8"
  }
 },
 "nbformat": 4,
 "nbformat_minor": 4
}
