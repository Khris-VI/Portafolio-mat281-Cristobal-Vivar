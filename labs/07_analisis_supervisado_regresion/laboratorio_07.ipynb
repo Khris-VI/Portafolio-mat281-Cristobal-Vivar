{
 "cells": [
  {
   "cell_type": "markdown",
   "metadata": {},
   "source": [
    "<img src=\"images/usm.jpg\" width=\"480\" height=\"240\" align=\"left\"/>"
   ]
  },
  {
   "cell_type": "markdown",
   "metadata": {},
   "source": [
    "# MAT281 - Laboratorios N°01\n",
    "\n",
    "## Objetivos del laboratorio\n",
    "\n",
    "* Reforzar conceptos básicos de regresión lineal."
   ]
  },
  {
   "cell_type": "markdown",
   "metadata": {},
   "source": [
    "## Contenidos\n",
    "\n",
    "* [Problema 01](#p1)\n"
   ]
  },
  {
   "cell_type": "markdown",
   "metadata": {},
   "source": [
    "<a id='p1'></a>\n",
    "## I.- Problema 01\n",
    "\n",
    "\n",
    "<img src=\"https://upload.wikimedia.org/wikipedia/commons/thumb/b/b6/Anscombe.svg/1200px-Anscombe.svg.png\" width=\"360\" height=\"360\" align=\"center\"/>\n",
    "\n"
   ]
  },
  {
   "cell_type": "markdown",
   "metadata": {},
   "source": [
    "El **cuarteto de Anscombe** comprende cuatro conjuntos de datos que tienen las mismas propiedades estadísticas, pero que evidentemente son distintas al inspeccionar sus gráficos respectivos.\n",
    "\n",
    "Cada conjunto consiste de once puntos (x, y) y fueron construidos por el estadístico F. J. Anscombe. El cuarteto es una demostración de la importancia de mirar gráficamente un conjunto de datos antes de analizarlos."
   ]
  },
  {
   "cell_type": "code",
   "execution_count": 1,
   "metadata": {},
   "outputs": [],
   "source": [
    "import os\n",
    "import numpy as np\n",
    "import pandas as pd\n",
    "import matplotlib.pyplot as plt\n",
    "import seaborn as sns\n",
    "\n",
    "%matplotlib inline\n",
    "sns.set_palette(\"deep\", desat=.6)\n",
    "sns.set(rc={'figure.figsize':(11.7,8.27)})"
   ]
  },
  {
   "cell_type": "code",
   "execution_count": 2,
   "metadata": {},
   "outputs": [
    {
     "data": {
      "text/html": [
       "<div>\n",
       "<style scoped>\n",
       "    .dataframe tbody tr th:only-of-type {\n",
       "        vertical-align: middle;\n",
       "    }\n",
       "\n",
       "    .dataframe tbody tr th {\n",
       "        vertical-align: top;\n",
       "    }\n",
       "\n",
       "    .dataframe thead th {\n",
       "        text-align: right;\n",
       "    }\n",
       "</style>\n",
       "<table border=\"1\" class=\"dataframe\">\n",
       "  <thead>\n",
       "    <tr style=\"text-align: right;\">\n",
       "      <th></th>\n",
       "      <th>x</th>\n",
       "      <th>y</th>\n",
       "      <th>grupo</th>\n",
       "    </tr>\n",
       "  </thead>\n",
       "  <tbody>\n",
       "    <tr>\n",
       "      <th>0</th>\n",
       "      <td>10</td>\n",
       "      <td>8.04</td>\n",
       "      <td>Grupo_1</td>\n",
       "    </tr>\n",
       "    <tr>\n",
       "      <th>1</th>\n",
       "      <td>8</td>\n",
       "      <td>6.95</td>\n",
       "      <td>Grupo_1</td>\n",
       "    </tr>\n",
       "    <tr>\n",
       "      <th>2</th>\n",
       "      <td>13</td>\n",
       "      <td>7.58</td>\n",
       "      <td>Grupo_1</td>\n",
       "    </tr>\n",
       "    <tr>\n",
       "      <th>3</th>\n",
       "      <td>9</td>\n",
       "      <td>8.81</td>\n",
       "      <td>Grupo_1</td>\n",
       "    </tr>\n",
       "    <tr>\n",
       "      <th>4</th>\n",
       "      <td>11</td>\n",
       "      <td>8.33</td>\n",
       "      <td>Grupo_1</td>\n",
       "    </tr>\n",
       "  </tbody>\n",
       "</table>\n",
       "</div>"
      ],
      "text/plain": [
       "    x     y    grupo\n",
       "0  10  8.04  Grupo_1\n",
       "1   8  6.95  Grupo_1\n",
       "2  13  7.58  Grupo_1\n",
       "3   9  8.81  Grupo_1\n",
       "4  11  8.33  Grupo_1"
      ]
     },
     "execution_count": 2,
     "metadata": {},
     "output_type": "execute_result"
    }
   ],
   "source": [
    "# cargar datos\n",
    "df = pd.read_csv(os.path.join(\"data\",\"anscombe.csv\"), sep=\",\")\n",
    "df.head()"
   ]
  },
  {
   "cell_type": "markdown",
   "metadata": {},
   "source": [
    "Basado en la información presentada responda las siguientes preguntas:\n",
    "\n",
    "1. Gráfique mediante un gráfico tipo **scatter** cada grupo. A simple vista, ¿ los grupos son muy distintos entre si?.\n",
    "2. Realice un resumen de las medidas estadísticas más significativas ocuapando el comando **describe** para cada grupo. Interprete.\n",
    "3. Realice un ajuste lineal para cada grupo. Además, grafique los resultados de la regresión lineal para cada grupo. Interprete.\n",
    "4. Calcule los resultados de las métricas para cada grupo. Interprete.\n",
    "5. Es claro que el ajuste lineal para algunos grupos no es el correcto. Existen varias formas de solucionar este problema (eliminar outliers, otros modelos, etc.). Identifique una estrategia para que el modelo de regresión lineal ajuste de mejor manera e implemente otros modelos en los casos que encuentre necesario.  "
   ]
  },
  {
   "cell_type": "markdown",
   "metadata": {},
   "source": [
    "## 1. Gráfique mediante un gráfico tipo **scatter** cada grupo. A simple vista, ¿ los grupos son muy distintos entre si?."
   ]
  },
  {
   "cell_type": "code",
   "execution_count": 3,
   "metadata": {},
   "outputs": [
    {
     "data": {
      "image/png": "[encoded data removed]",
      "text/plain": [
       "<Figure size 864x576 with 4 Axes>"
      ]
     },
     "metadata": {},
     "output_type": "display_data"
    }
   ],
   "source": [
    "# tamano del grafico\n",
    "fig = plt.figure(figsize=(12, 8)) # ventana\n",
    "\n",
    "plt.subplot(2,2,1)\n",
    "sns.scatterplot(x='x', y='y', data=df[df['grupo'] == 'Grupo_1']) \n",
    "plt.xlabel('$x_1$')\n",
    "plt.ylabel('$y_1$')\n",
    "\n",
    "plt.subplot(2,2,2)\n",
    "sns.scatterplot(x='x', y='y', data=df[df['grupo'] == 'Grupo_2']) \n",
    "plt.xlabel('$x_2$')\n",
    "plt.ylabel('$y_2$')\n",
    "\n",
    "plt.subplot(2,2,3)\n",
    "sns.scatterplot(x='x', y='y', data=df[df['grupo'] == 'Grupo_3']) \n",
    "plt.xlabel('$x_3$')\n",
    "plt.ylabel('$y_3$')\n",
    "\n",
    "plt.subplot(2,2,4)\n",
    "sns.scatterplot(x='x', y='y', data=df[df['grupo'] == 'Grupo_4']) \n",
    "plt.xlabel('$x_4$')\n",
    "plt.ylabel('$y_4$')\n",
    "\n",
    "plt.show()"
   ]
  },
  {
   "cell_type": "markdown",
   "metadata": {},
   "source": [
    "### Se observa de los graficos que las distribuciones de los datos de cada grupo son notoriamente diferentes "
   ]
  },
  {
   "cell_type": "markdown",
   "metadata": {},
   "source": [
    "## 2. Realice un resumen de las medidas estadísticas más significativas ocuapando el comando **describe** para cada grupo. Interprete."
   ]
  },
  {
   "cell_type": "code",
   "execution_count": 4,
   "metadata": {},
   "outputs": [
    {
     "data": {
      "text/html": [
       "<div>\n",
       "<style scoped>\n",
       "    .dataframe tbody tr th:only-of-type {\n",
       "        vertical-align: middle;\n",
       "    }\n",
       "\n",
       "    .dataframe tbody tr th {\n",
       "        vertical-align: top;\n",
       "    }\n",
       "\n",
       "    .dataframe thead tr th {\n",
       "        text-align: left;\n",
       "    }\n",
       "\n",
       "    .dataframe thead tr:last-of-type th {\n",
       "        text-align: right;\n",
       "    }\n",
       "</style>\n",
       "<table border=\"1\" class=\"dataframe\">\n",
       "  <thead>\n",
       "    <tr>\n",
       "      <th></th>\n",
       "      <th colspan=\"8\" halign=\"left\">x</th>\n",
       "      <th colspan=\"8\" halign=\"left\">y</th>\n",
       "    </tr>\n",
       "    <tr>\n",
       "      <th></th>\n",
       "      <th>count</th>\n",
       "      <th>mean</th>\n",
       "      <th>std</th>\n",
       "      <th>min</th>\n",
       "      <th>25%</th>\n",
       "      <th>50%</th>\n",
       "      <th>75%</th>\n",
       "      <th>max</th>\n",
       "      <th>count</th>\n",
       "      <th>mean</th>\n",
       "      <th>std</th>\n",
       "      <th>min</th>\n",
       "      <th>25%</th>\n",
       "      <th>50%</th>\n",
       "      <th>75%</th>\n",
       "      <th>max</th>\n",
       "    </tr>\n",
       "    <tr>\n",
       "      <th>grupo</th>\n",
       "      <th></th>\n",
       "      <th></th>\n",
       "      <th></th>\n",
       "      <th></th>\n",
       "      <th></th>\n",
       "      <th></th>\n",
       "      <th></th>\n",
       "      <th></th>\n",
       "      <th></th>\n",
       "      <th></th>\n",
       "      <th></th>\n",
       "      <th></th>\n",
       "      <th></th>\n",
       "      <th></th>\n",
       "      <th></th>\n",
       "      <th></th>\n",
       "    </tr>\n",
       "  </thead>\n",
       "  <tbody>\n",
       "    <tr>\n",
       "      <th>Grupo_1</th>\n",
       "      <td>11.0</td>\n",
       "      <td>9.0</td>\n",
       "      <td>3.316625</td>\n",
       "      <td>4.0</td>\n",
       "      <td>6.5</td>\n",
       "      <td>9.0</td>\n",
       "      <td>11.5</td>\n",
       "      <td>14.0</td>\n",
       "      <td>11.0</td>\n",
       "      <td>7.500909</td>\n",
       "      <td>2.031568</td>\n",
       "      <td>4.26</td>\n",
       "      <td>6.315</td>\n",
       "      <td>7.58</td>\n",
       "      <td>8.57</td>\n",
       "      <td>10.84</td>\n",
       "    </tr>\n",
       "    <tr>\n",
       "      <th>Grupo_2</th>\n",
       "      <td>11.0</td>\n",
       "      <td>9.0</td>\n",
       "      <td>3.316625</td>\n",
       "      <td>4.0</td>\n",
       "      <td>6.5</td>\n",
       "      <td>9.0</td>\n",
       "      <td>11.5</td>\n",
       "      <td>14.0</td>\n",
       "      <td>11.0</td>\n",
       "      <td>7.500909</td>\n",
       "      <td>2.031657</td>\n",
       "      <td>3.10</td>\n",
       "      <td>6.695</td>\n",
       "      <td>8.14</td>\n",
       "      <td>8.95</td>\n",
       "      <td>9.26</td>\n",
       "    </tr>\n",
       "    <tr>\n",
       "      <th>Grupo_3</th>\n",
       "      <td>11.0</td>\n",
       "      <td>9.0</td>\n",
       "      <td>3.316625</td>\n",
       "      <td>4.0</td>\n",
       "      <td>6.5</td>\n",
       "      <td>9.0</td>\n",
       "      <td>11.5</td>\n",
       "      <td>14.0</td>\n",
       "      <td>11.0</td>\n",
       "      <td>7.500000</td>\n",
       "      <td>2.030424</td>\n",
       "      <td>5.39</td>\n",
       "      <td>6.250</td>\n",
       "      <td>7.11</td>\n",
       "      <td>7.98</td>\n",
       "      <td>12.74</td>\n",
       "    </tr>\n",
       "    <tr>\n",
       "      <th>Grupo_4</th>\n",
       "      <td>11.0</td>\n",
       "      <td>9.0</td>\n",
       "      <td>3.316625</td>\n",
       "      <td>8.0</td>\n",
       "      <td>8.0</td>\n",
       "      <td>8.0</td>\n",
       "      <td>8.0</td>\n",
       "      <td>19.0</td>\n",
       "      <td>11.0</td>\n",
       "      <td>7.500909</td>\n",
       "      <td>2.030579</td>\n",
       "      <td>5.25</td>\n",
       "      <td>6.170</td>\n",
       "      <td>7.04</td>\n",
       "      <td>8.19</td>\n",
       "      <td>12.50</td>\n",
       "    </tr>\n",
       "  </tbody>\n",
       "</table>\n",
       "</div>"
      ],
      "text/plain": [
       "            x                                               y            \\\n",
       "        count mean       std  min  25%  50%   75%   max count      mean   \n",
       "grupo                                                                     \n",
       "Grupo_1  11.0  9.0  3.316625  4.0  6.5  9.0  11.5  14.0  11.0  7.500909   \n",
       "Grupo_2  11.0  9.0  3.316625  4.0  6.5  9.0  11.5  14.0  11.0  7.500909   \n",
       "Grupo_3  11.0  9.0  3.316625  4.0  6.5  9.0  11.5  14.0  11.0  7.500000   \n",
       "Grupo_4  11.0  9.0  3.316625  8.0  8.0  8.0   8.0  19.0  11.0  7.500909   \n",
       "\n",
       "                                                   \n",
       "              std   min    25%   50%   75%    max  \n",
       "grupo                                              \n",
       "Grupo_1  2.031568  4.26  6.315  7.58  8.57  10.84  \n",
       "Grupo_2  2.031657  3.10  6.695  8.14  8.95   9.26  \n",
       "Grupo_3  2.030424  5.39  6.250  7.11  7.98  12.74  \n",
       "Grupo_4  2.030579  5.25  6.170  7.04  8.19  12.50  "
      ]
     },
     "execution_count": 4,
     "metadata": {},
     "output_type": "execute_result"
    }
   ],
   "source": [
    "df.groupby(['grupo']).describe()"
   ]
  },
  {
   "cell_type": "markdown",
   "metadata": {},
   "source": [
    "Notamos que aunque los graficos eran distintos, las estadisticas de los 4 grupos son sumamente parecidas, lo que hará que los ajustes lineales sean muy parecidos para cada grupo. Aun así, los valores de datos minimos, maximos y como se distribuyen los datos son claramente distintos."
   ]
  },
  {
   "cell_type": "markdown",
   "metadata": {},
   "source": [
    "## 3. Realice un ajuste lineal para cada grupo. Además, grafique los resultados de la regresión lineal para cada grupo. Interprete."
   ]
  },
  {
   "cell_type": "code",
   "execution_count": 5,
   "metadata": {},
   "outputs": [
    {
     "data": {
      "text/plain": [
       "LinearRegression()"
      ]
     },
     "execution_count": 5,
     "metadata": {},
     "output_type": "execute_result"
    }
   ],
   "source": [
    "# importando el modelo de regresión lineal\n",
    "from sklearn.linear_model import LinearRegression\n",
    "from sklearn.model_selection import train_test_split\n",
    "\n",
    "#Crecion de 4 modelos, uno para cada grupo:\n",
    "#Modelo 1:\n",
    "model_rl1 = LinearRegression() # Creando el modelo.\n",
    "x1 = df[df['grupo'] == 'Grupo_1'][['x']]\n",
    "y1 = df[df['grupo'] == 'Grupo_1']['y']\n",
    "X1_train, X1_test, y1_train, y1_test = train_test_split(x1, y1, test_size=0.33, random_state=42)\n",
    "\n",
    "model_rl1.fit(X1_train,y1_train)\n",
    "\n",
    "#Modelo 2:\n",
    "model_rl2 = LinearRegression() # Creando el modelo.\n",
    "x2 = df[df['grupo'] == 'Grupo_2'][['x']]\n",
    "y2 = df[df['grupo'] == 'Grupo_2']['y']\n",
    "X2_train, X2_test, y2_train, y2_test = train_test_split(x2, y2, test_size=0.33, random_state=42)\n",
    "\n",
    "model_rl2.fit(X2_train,y2_train)\n",
    "\n",
    "#Modelo 3:\n",
    "model_rl3 = LinearRegression() # Creando el modelo.\n",
    "x3 = df[df['grupo'] == 'Grupo_3'][['x']]\n",
    "y3 = df[df['grupo'] == 'Grupo_3']['y']\n",
    "X3_train, X3_test, y3_train, y3_test = train_test_split(x3, y3, test_size=0.33, random_state=42)\n",
    "\n",
    "model_rl3.fit(X3_train,y3_train)\n",
    "\n",
    "#Modelo 4:\n",
    "model_rl4 = LinearRegression() # Creando el modelo.\n",
    "x4 = df[df['grupo'] == 'Grupo_4'][['x']]\n",
    "y4 = df[df['grupo'] == 'Grupo_4']['y']\n",
    "X4_train, X4_test, y4_train, y4_test = train_test_split(x4, y4, test_size=0.33, random_state=42)\n",
    "\n",
    "model_rl4.fit(X4_train,y4_train)\n"
   ]
  },
  {
   "cell_type": "code",
   "execution_count": 6,
   "metadata": {},
   "outputs": [
    {
     "data": {
      "image/png": "[encoded data removed]",
      "text/plain": [
       "<Figure size 864x576 with 4 Axes>"
      ]
     },
     "metadata": {},
     "output_type": "display_data"
    }
   ],
   "source": [
    "# Lista de coeficientes beta para cada modelo:\n",
    "beta_1_0 = round(model_rl1.intercept_,4)\n",
    "beta_1_1 = round(model_rl1.coef_[0],4)\n",
    "\n",
    "beta_2_0 = round(model_rl2.intercept_,4)\n",
    "beta_2_1 = round(model_rl2.coef_[0],4)\n",
    "\n",
    "beta_3_0 = round(model_rl3.intercept_,4)\n",
    "beta_3_1 = round(model_rl3.coef_[0],4)\n",
    "\n",
    "beta_4_0 = round(model_rl4.intercept_,4)\n",
    "beta_4_1 = round(model_rl4.coef_[0],4)\n",
    "\n",
    "#Defincion de arreglos para fraficar cada ajuste:\n",
    "x1_range = np.arange(2,21,1)\n",
    "y1_range=[beta_1_0 + beta_1_1*n for n in x1_range]\n",
    "y2_range=[beta_2_0 + beta_2_1*n for n in x1_range]\n",
    "y3_range=[beta_3_0 + beta_3_1*n for n in x1_range]\n",
    "y4_range=[beta_4_0 + beta_4_1*n for n in x1_range]\n",
    "\n",
    "#Definición de dataFrames para graficar cada ajuste:\n",
    "df_plot1 = pd.DataFrame({'x':x1_range,\n",
    "                        'y':y1_range})\n",
    "df_plot2 = pd.DataFrame({'x':x1_range,\n",
    "                        'y':y2_range})\n",
    "df_plot3 = pd.DataFrame({'x':x1_range,\n",
    "                        'y':y3_range})\n",
    "df_plot4 = pd.DataFrame({'x':x1_range,\n",
    "                        'y':y4_range})\n",
    "\n",
    "#Se grafica:\n",
    "fig = plt.figure(figsize=(12, 8)) # ventana\n",
    "\n",
    "#Grafico 1:\n",
    "plt.subplot(2,2,1)\n",
    "sns.scatterplot(x='x', y='y', data=df[df['grupo'] == 'Grupo_1']) \n",
    "sns.lineplot(x='x', y='y', data=df_plot1,color=\"red\")\n",
    "plt.xlabel('$x_1$')\n",
    "plt.xticks([2*x for x in range(1,10)])\n",
    "plt.ylabel('$y_1$')\n",
    "\n",
    "#Grafico 2:\n",
    "plt.subplot(2,2,2)\n",
    "sns.scatterplot(x='x', y='y', data=df[df['grupo'] == 'Grupo_2'])\n",
    "sns.lineplot(x='x', y='y', data=df_plot2,color=\"red\")\n",
    "plt.xlabel('$x_2$')\n",
    "plt.xticks([2*x for x in range(1,10)])\n",
    "plt.ylabel('$y_2$')\n",
    "\n",
    "#Grafico 3:\n",
    "plt.subplot(2,2,3)\n",
    "sns.scatterplot(x='x', y='y', data=df[df['grupo'] == 'Grupo_3'])\n",
    "sns.lineplot(x='x', y='y', data=df_plot3,color=\"red\")\n",
    "plt.xlabel('$x_3$')\n",
    "plt.xticks([2*x for x in range(1,10)])\n",
    "plt.ylabel('$y_3$')\n",
    "\n",
    "#Grafico 4:\n",
    "plt.subplot(2,2,4)\n",
    "sns.scatterplot(x='x', y='y', data=df[df['grupo'] == 'Grupo_4'])\n",
    "sns.lineplot(x='x', y='y', data=df_plot4,color=\"red\")\n",
    "plt.xlabel('$x_4$')\n",
    "plt.xticks([2*x for x in range(1,10)])\n",
    "plt.ylabel('$y_4$')\n",
    "\n",
    "plt.show()"
   ]
  },
  {
   "cell_type": "markdown",
   "metadata": {},
   "source": [
    "Se observa que aunque la distribucion de los datos de cada grupo es claramente distinta, los ajustes lineales de los 4 grupos resultaron practicamente iguales."
   ]
  },
  {
   "cell_type": "markdown",
   "metadata": {},
   "source": [
    "## 4. Calcule los resultados de las métricas para cada grupo. Interprete."
   ]
  },
  {
   "cell_type": "code",
   "execution_count": 7,
   "metadata": {},
   "outputs": [
    {
     "data": {
      "text/html": [
       "<div>\n",
       "<style scoped>\n",
       "    .dataframe tbody tr th:only-of-type {\n",
       "        vertical-align: middle;\n",
       "    }\n",
       "\n",
       "    .dataframe tbody tr th {\n",
       "        vertical-align: top;\n",
       "    }\n",
       "\n",
       "    .dataframe thead th {\n",
       "        text-align: right;\n",
       "    }\n",
       "</style>\n",
       "<table border=\"1\" class=\"dataframe\">\n",
       "  <thead>\n",
       "    <tr style=\"text-align: right;\">\n",
       "      <th></th>\n",
       "      <th>mae</th>\n",
       "      <th>mse</th>\n",
       "      <th>rmse</th>\n",
       "      <th>mape</th>\n",
       "      <th>maape</th>\n",
       "      <th>wmape</th>\n",
       "      <th>mmape</th>\n",
       "      <th>smape</th>\n",
       "      <th>r2</th>\n",
       "    </tr>\n",
       "  </thead>\n",
       "  <tbody>\n",
       "    <tr>\n",
       "      <th>0</th>\n",
       "      <td>0.5907</td>\n",
       "      <td>0.9878</td>\n",
       "      <td>0.9939</td>\n",
       "      <td>0.1165</td>\n",
       "      <td>0.1113</td>\n",
       "      <td>0.0829</td>\n",
       "      <td>0.0971</td>\n",
       "      <td>0.0990</td>\n",
       "      <td>0.7572</td>\n",
       "    </tr>\n",
       "    <tr>\n",
       "      <th>0</th>\n",
       "      <td>1.1934</td>\n",
       "      <td>2.0670</td>\n",
       "      <td>1.4377</td>\n",
       "      <td>0.1569</td>\n",
       "      <td>0.1541</td>\n",
       "      <td>0.1633</td>\n",
       "      <td>0.1381</td>\n",
       "      <td>0.1484</td>\n",
       "      <td>0.2186</td>\n",
       "    </tr>\n",
       "    <tr>\n",
       "      <th>0</th>\n",
       "      <td>0.8342</td>\n",
       "      <td>1.1773</td>\n",
       "      <td>1.0850</td>\n",
       "      <td>0.1067</td>\n",
       "      <td>0.1057</td>\n",
       "      <td>0.1173</td>\n",
       "      <td>0.0943</td>\n",
       "      <td>0.1005</td>\n",
       "      <td>0.1432</td>\n",
       "    </tr>\n",
       "    <tr>\n",
       "      <th>0</th>\n",
       "      <td>0.3700</td>\n",
       "      <td>0.2736</td>\n",
       "      <td>0.5230</td>\n",
       "      <td>0.0496</td>\n",
       "      <td>0.0495</td>\n",
       "      <td>0.0521</td>\n",
       "      <td>0.0437</td>\n",
       "      <td>0.0514</td>\n",
       "      <td>-0.1234</td>\n",
       "    </tr>\n",
       "  </tbody>\n",
       "</table>\n",
       "</div>"
      ],
      "text/plain": [
       "      mae     mse    rmse    mape   maape   wmape   mmape   smape      r2\n",
       "0  0.5907  0.9878  0.9939  0.1165  0.1113  0.0829  0.0971  0.0990  0.7572\n",
       "0  1.1934  2.0670  1.4377  0.1569  0.1541  0.1633  0.1381  0.1484  0.2186\n",
       "0  0.8342  1.1773  1.0850  0.1067  0.1057  0.1173  0.0943  0.1005  0.1432\n",
       "0  0.3700  0.2736  0.5230  0.0496  0.0495  0.0521  0.0437  0.0514 -0.1234"
      ]
     },
     "execution_count": 7,
     "metadata": {},
     "output_type": "execute_result"
    }
   ],
   "source": [
    "from metrics_regression import *\n",
    "from sklearn.metrics import r2_score\n",
    "\n",
    "#Metricas del grupo 1:\n",
    "df_temp = pd.DataFrame({\n",
    "        'y':y1_test,\n",
    "        'yhat': model_rl1.predict(X1_test)\n",
    "        })\n",
    "\n",
    "df_metrics= summary_metrics(df_temp) #Se crea el dataframe de metricas ahora solo con el grupo 1\n",
    "df_metrics['r2'] =  round(r2_score(y1_test, model_rl1.predict(X1_test)),4)\n",
    "\n",
    "#Metricas del grupo 2:\n",
    "df_temp = pd.DataFrame({\n",
    "        'y':y2_test,\n",
    "        'yhat': model_rl2.predict(X2_test)\n",
    "        })\n",
    "df_metrics_temp = summary_metrics(df_temp)\n",
    "df_metrics_temp['r2'] =  round(r2_score(y2_test, model_rl2.predict(X2_test)),4)\n",
    "df_metrics=pd.concat([df_metrics,df_metrics_temp]) #Se agrega el dataframe de metricas del grupo 2 al ya existente \n",
    "\n",
    "#Metricas del grupo 3:\n",
    "df_temp = pd.DataFrame({\n",
    "        'y':y3_test,\n",
    "        'yhat': model_rl3.predict(X3_test)\n",
    "        })\n",
    "df_metrics_temp = summary_metrics(df_temp)\n",
    "df_metrics_temp['r2'] =  round(r2_score(y3_test, model_rl3.predict(X3_test)),4)\n",
    "df_metrics=pd.concat([df_metrics,df_metrics_temp]) #Se agrega el dataframe de metricas del grupo 3 al ya existente \n",
    "\n",
    "#Metricas del grupo 4:\n",
    "df_temp = pd.DataFrame({\n",
    "        'y':y4_test,\n",
    "        'yhat': model_rl4.predict(X4_test)\n",
    "        })\n",
    "df_metrics_temp = summary_metrics(df_temp)\n",
    "df_metrics_temp['r2'] =  round(r2_score(y4_test, model_rl4.predict(X4_test)),4)\n",
    "df_metrics=pd.concat([df_metrics,df_metrics_temp]) #Se agrega el dataframe de metricas del grupo 4 al ya existente \n",
    "\n",
    "grupos = pd.Series(['Grupo_1','Grupo_2','Grupo_3', 'Grupo_4']) #Se cambia el indice para mostrar cada grupo\n",
    "df_metrics.set_index(keys=grupos)\n",
    "df_metrics"
   ]
  },
  {
   "cell_type": "markdown",
   "metadata": {},
   "source": [
    "<u> Grupo:1 </u> Notamos que los errores se notan normales y no muy alejados del 0. El factor $r^2$ en este caso no está muy cercano al 0. Así, en mi opinión el ajuste correspondiente al grupo 1 es correcto.\n",
    "\n",
    "<u> Grupo:2 </u> Notamos que los errores absolutos son mayores a los del grupo 1, aunque los porcentuales no son muy diferentes. Lo que se destaca es que el factor $r^2$ es mucho menor que el del grupo 1 y además se encuentra cercno al 0, lo que se puede interpretar como que el ajuste lineal de los datos de este grupo no está bien hecho.\n",
    "\n",
    "<u> Grupo:3 </u> Al igual que en 2 los errores absolutos son mayores que en 1 y los porcentuales son cercanos 0. En este caso el factor $r^2$ es aun más bajo que en 2, el ajuste está aun más mal hecho.\n",
    "\n",
    "<u> Grupo:4 </u> Para este grupo los errores absolutos no son muy malos al igual que los porcentuales, pero el factor $r^2$ resultó negativo, lo que indica que la regresión lineal está completamente mal hecha, el ajuste no representa para nada la distribución de los datos."
   ]
  },
  {
   "cell_type": "markdown",
   "metadata": {},
   "source": [
    "## 5. Es claro que el ajuste lineal para algunos grupos no es el correcto. Existen varias formas de solucionar este problema (eliminar outliers, otros modelos, etc.). Identifique una estrategia para que el modelo de regresión lineal ajuste de mejor manera e implemente otros modelos en los casos que encuentre necesario. "
   ]
  },
  {
   "cell_type": "markdown",
   "metadata": {},
   "source": [
    "## <u> Grupo 1: </u>"
   ]
  },
  {
   "cell_type": "markdown",
   "metadata": {},
   "source": [
    "Para este grupo de datos podemos ver visualmente que el ajuste parece ser bueno. Al analizar las metricas para este grupo también se observa que el factor $r^2$ por ejemplo tiene un valor de aprox 0,7 y los errores porcentuales también no estan muy alejados del 0. Así, a mi opinión, el ajuste parece ser correcto para este grupo."
   ]
  },
  {
   "cell_type": "markdown",
   "metadata": {},
   "source": [
    "## <u> Grupo 2: </u>"
   ]
  },
  {
   "cell_type": "markdown",
   "metadata": {},
   "source": [
    "Observando el gráfico de este grupo se puede notar claramente que la distribución de los datos no es lineal. Por esto, propongo una regresión polinomica para aproximar los datos de mejor manera:"
   ]
  },
  {
   "cell_type": "code",
   "execution_count": 8,
   "metadata": {},
   "outputs": [
    {
     "data": {
      "image/png": "[encoded data removed]",
      "text/plain": [
       "<Figure size 576x360 with 1 Axes>"
      ]
     },
     "metadata": {},
     "output_type": "display_data"
    }
   ],
   "source": [
    "from sklearn.preprocessing import PolynomialFeatures\n",
    "from sklearn.pipeline import make_pipeline\n",
    "\n",
    "degree=2 #grado del polinomio de regresion\n",
    "polyreg=make_pipeline(PolynomialFeatures(degree),LinearRegression()) #Creacion del modelo \n",
    "polyreg.fit(X2_train,y2_train) #Se usan los datos train creados en Pregunta 3\n",
    "\n",
    "#Definiciones para graficar el ajuste\n",
    "X_seq = np.linspace(2,18,300).reshape(-1,1)\n",
    "\n",
    "#Se grafica:\n",
    "plt.figure(figsize=(8,5))\n",
    "sns.scatterplot(x='x', y='y', data=df[df['grupo'] == 'Grupo_2']) \n",
    "plt.plot(X_seq,polyreg.predict(X_seq),color=\"red\")\n",
    "plt.title(\"Regresión polinómica de grado \"+str(degree))\n",
    "plt.show()"
   ]
  },
  {
   "cell_type": "code",
   "execution_count": 9,
   "metadata": {},
   "outputs": [
    {
     "data": {
      "text/html": [
       "<div>\n",
       "<style scoped>\n",
       "    .dataframe tbody tr th:only-of-type {\n",
       "        vertical-align: middle;\n",
       "    }\n",
       "\n",
       "    .dataframe tbody tr th {\n",
       "        vertical-align: top;\n",
       "    }\n",
       "\n",
       "    .dataframe thead th {\n",
       "        text-align: right;\n",
       "    }\n",
       "</style>\n",
       "<table border=\"1\" class=\"dataframe\">\n",
       "  <thead>\n",
       "    <tr style=\"text-align: right;\">\n",
       "      <th></th>\n",
       "      <th>mae</th>\n",
       "      <th>mse</th>\n",
       "      <th>rmse</th>\n",
       "      <th>mape</th>\n",
       "      <th>maape</th>\n",
       "      <th>wmape</th>\n",
       "      <th>mmape</th>\n",
       "      <th>smape</th>\n",
       "      <th>r2</th>\n",
       "    </tr>\n",
       "  </thead>\n",
       "  <tbody>\n",
       "    <tr>\n",
       "      <th>Grupo_2</th>\n",
       "      <td>0.0013</td>\n",
       "      <td>0.0</td>\n",
       "      <td>0.0015</td>\n",
       "      <td>0.0002</td>\n",
       "      <td>0.0002</td>\n",
       "      <td>0.0002</td>\n",
       "      <td>0.0002</td>\n",
       "      <td>0.0002</td>\n",
       "      <td>1.0</td>\n",
       "    </tr>\n",
       "  </tbody>\n",
       "</table>\n",
       "</div>"
      ],
      "text/plain": [
       "            mae  mse    rmse    mape   maape   wmape   mmape   smape   r2\n",
       "Grupo_2  0.0013  0.0  0.0015  0.0002  0.0002  0.0002  0.0002  0.0002  1.0"
      ]
     },
     "execution_count": 9,
     "metadata": {},
     "output_type": "execute_result"
    }
   ],
   "source": [
    "#Se presentan las nuevas metricas con el ajuste cuadrático\n",
    "df_temp = pd.DataFrame({\n",
    "        'y':y2_test,\n",
    "        'yhat': polyreg.predict(X2_test)\n",
    "        })\n",
    "\n",
    "df_metrica2 = summary_metrics(df_temp)\n",
    "df_metrica2['r2'] =  round(r2_score(y2_test, polyreg.predict(X2_test)),4)\n",
    "df_metrica2.set_index(pd.Series({'Grupo_2':'Grupo_2'}))"
   ]
  },
  {
   "cell_type": "markdown",
   "metadata": {},
   "source": [
    "Se observa que con el nuevo ajuste, las metricas resultaron perfectas, resulataba ser que la distribucion de los datos correspondia a una función cuadratica."
   ]
  },
  {
   "cell_type": "markdown",
   "metadata": {},
   "source": [
    "## <u> Grupo 3: </u>"
   ]
  },
  {
   "cell_type": "markdown",
   "metadata": {},
   "source": [
    "Observando el comportamiento del ajuste lineal de este grupo se puede notar que hay un outlier que hace que la pendiente del ajuste lineal se aleje de la distribución de los datos del Grupo_3. Con esto, propondgo una estrategia de eliminar el dato anómalo y hacer el ajuste con el resto de datos bien distribuidos:"
   ]
  },
  {
   "cell_type": "code",
   "execution_count": 10,
   "metadata": {},
   "outputs": [
    {
     "data": {
      "image/png": "[encoded data removed]",
      "text/plain": [
       "<Figure size 576x360 with 1 Axes>"
      ]
     },
     "metadata": {},
     "output_type": "display_data"
    }
   ],
   "source": [
    "#Se elimina el dato anómalo:\n",
    "df_nuevo = df[df['grupo'] == 'Grupo_3'].drop(24)\n",
    "\n",
    "#Se crea un nuevo ajuste ahora para los datos sin el outlier:\n",
    "model_rl3 = LinearRegression()\n",
    "x3 = df_nuevo[['x']]\n",
    "y3 = df_nuevo['y']\n",
    "X3_train, X3_test, y3_train, y3_test = train_test_split(x3, y3, test_size=0.33, random_state=42)\n",
    "\n",
    "model_rl3.fit(X3_train,y3_train)\n",
    "\n",
    "#Definición de los coef del ajuste\n",
    "beta_3_0 = round(model_rl3.intercept_,4)\n",
    "beta_3_1 = round(model_rl3.coef_[0],4)\n",
    "\n",
    "#Definciones para Graficar el ajuste:\n",
    "x_range = np.arange(2,21,1)\n",
    "y3_range=[beta_3_0 + beta_3_1*n for n in x_range]\n",
    "\n",
    "df_plot3 = pd.DataFrame({'x':x_range,\n",
    "                        'y':y3_range})\n",
    "\n",
    "#Grafico con el ajuste y los datos de df_nuevo:\n",
    "fig = plt.figure(figsize=(8, 5)) # ventana\n",
    "\n",
    "sns.scatterplot(x='x', y='y', data=df_nuevo) #Datos originales sin el outlier\n",
    "sns.lineplot(x='x', y='y', data=df_plot3,color=\"red\") #Ajuste lineal\n",
    "plt.xlabel('$x_3$')\n",
    "plt.xticks([2*x for x in range(1,10)])\n",
    "plt.ylabel('$y_3$')\n",
    "plt.show()"
   ]
  },
  {
   "cell_type": "code",
   "execution_count": 11,
   "metadata": {},
   "outputs": [
    {
     "data": {
      "text/html": [
       "<div>\n",
       "<style scoped>\n",
       "    .dataframe tbody tr th:only-of-type {\n",
       "        vertical-align: middle;\n",
       "    }\n",
       "\n",
       "    .dataframe tbody tr th {\n",
       "        vertical-align: top;\n",
       "    }\n",
       "\n",
       "    .dataframe thead th {\n",
       "        text-align: right;\n",
       "    }\n",
       "</style>\n",
       "<table border=\"1\" class=\"dataframe\">\n",
       "  <thead>\n",
       "    <tr style=\"text-align: right;\">\n",
       "      <th></th>\n",
       "      <th>mae</th>\n",
       "      <th>mse</th>\n",
       "      <th>rmse</th>\n",
       "      <th>mape</th>\n",
       "      <th>maape</th>\n",
       "      <th>wmape</th>\n",
       "      <th>mmape</th>\n",
       "      <th>smape</th>\n",
       "      <th>r2</th>\n",
       "    </tr>\n",
       "  </thead>\n",
       "  <tbody>\n",
       "    <tr>\n",
       "      <th>Grupo_3</th>\n",
       "      <td>0.0018</td>\n",
       "      <td>0.0</td>\n",
       "      <td>0.0021</td>\n",
       "      <td>0.0003</td>\n",
       "      <td>0.0003</td>\n",
       "      <td>0.0003</td>\n",
       "      <td>0.0002</td>\n",
       "      <td>0.0003</td>\n",
       "      <td>1.0</td>\n",
       "    </tr>\n",
       "  </tbody>\n",
       "</table>\n",
       "</div>"
      ],
      "text/plain": [
       "            mae  mse    rmse    mape   maape   wmape   mmape   smape   r2\n",
       "Grupo_3  0.0018  0.0  0.0021  0.0003  0.0003  0.0003  0.0002  0.0003  1.0"
      ]
     },
     "execution_count": 11,
     "metadata": {},
     "output_type": "execute_result"
    }
   ],
   "source": [
    "#Se presentan las nuevas metricas con los datos actualizados quitando el outlier\n",
    "\n",
    "df_temp = pd.DataFrame({\n",
    "        'y':y3_test,\n",
    "        'yhat': model_rl3.predict(X3_test)\n",
    "        })\n",
    "df_metrica3= summary_metrics(df_temp)\n",
    "df_metrica3['r2'] =  round(r2_score(y3_test, model_rl3.predict(X3_test)),4)\n",
    "df_metrica3.set_index(pd.Series({'Grupo_3':'Grupo_3'}))"
   ]
  },
  {
   "cell_type": "markdown",
   "metadata": {},
   "source": [
    "Se observa que al quitar el oulier, el ajuste resulta sumamente bueno visualmente y además contiene errores muy cercanos a 0 y un factor $r^2=1$."
   ]
  },
  {
   "cell_type": "markdown",
   "metadata": {},
   "source": [
    "## <u> Grupo 4: </u>"
   ]
  },
  {
   "cell_type": "markdown",
   "metadata": {},
   "source": [
    "Para este grupo de datos se observa en el grafico que existe una distribucion de datos muy particular, hay un outlier y todos los demás datos se encuentran concentrados en una linea vertical correspondiente a $x=8$. Así, propongo el eliminar el outlier y realizar un ajuste intercambiando los ejes (para obtener un ajuste de pendiente 0 y no $\\infty$):"
   ]
  },
  {
   "cell_type": "code",
   "execution_count": 12,
   "metadata": {},
   "outputs": [
    {
     "data": {
      "image/png": "[encoded data removed]",
      "text/plain": [
       "<Figure size 576x360 with 1 Axes>"
      ]
     },
     "metadata": {},
     "output_type": "display_data"
    }
   ],
   "source": [
    "#Definicion del dataframe sin el outlier\n",
    "df_nuevo4 = df[df['grupo'] == 'Grupo_4'].drop(40)\n",
    "\n",
    "#Defincion del nuevo modelo\n",
    "model_rl4_nuevo = LinearRegression() # Creando el modelo.\n",
    "x4 = df_nuevo4['x']\n",
    "y4 = df_nuevo4[['y']]\n",
    "X4_train, X4_test, y4_train, y4_test = train_test_split(y4, x4, test_size=0.33, random_state=42)\n",
    "\n",
    "model_rl4_nuevo.fit(X4_train,y4_train)\n",
    "\n",
    "#Definición de los coef del nuevo ajuste:\n",
    "beta_4_0_nuevo = round(model_rl4_nuevo.intercept_,4)\n",
    "beta_4_1_nuevo = round(model_rl4_nuevo.coef_[0],4)\n",
    "\n",
    "#Definiciones para graficar el ajuste\n",
    "x_range = np.arange(4,10,1)\n",
    "y4_range=[beta_4_0_nuevo + beta_4_1_nuevo*n for n in x_range]\n",
    "\n",
    "df_plot4_nuevo = pd.DataFrame({'x':x_range,\n",
    "                        'y':y4_range})\n",
    "\n",
    "#Se grafica:\n",
    "plt.figure(figsize=(8,5))\n",
    "\n",
    "sns.scatterplot(x='x', y='y', data=df_nuevo4)\n",
    "plt.plot(y4_range, x_range,'r')\n",
    "plt.xlabel('$x_4$')\n",
    "plt.xticks([2*x for x in range(1,10)])\n",
    "plt.ylabel('$y_4$')\n",
    "plt.show()"
   ]
  },
  {
   "cell_type": "code",
   "execution_count": 13,
   "metadata": {},
   "outputs": [
    {
     "data": {
      "text/html": [
       "<div>\n",
       "<style scoped>\n",
       "    .dataframe tbody tr th:only-of-type {\n",
       "        vertical-align: middle;\n",
       "    }\n",
       "\n",
       "    .dataframe tbody tr th {\n",
       "        vertical-align: top;\n",
       "    }\n",
       "\n",
       "    .dataframe thead th {\n",
       "        text-align: right;\n",
       "    }\n",
       "</style>\n",
       "<table border=\"1\" class=\"dataframe\">\n",
       "  <thead>\n",
       "    <tr style=\"text-align: right;\">\n",
       "      <th></th>\n",
       "      <th>mae</th>\n",
       "      <th>mse</th>\n",
       "      <th>rmse</th>\n",
       "      <th>mape</th>\n",
       "      <th>maape</th>\n",
       "      <th>wmape</th>\n",
       "      <th>mmape</th>\n",
       "      <th>smape</th>\n",
       "      <th>r2</th>\n",
       "    </tr>\n",
       "  </thead>\n",
       "  <tbody>\n",
       "    <tr>\n",
       "      <th>0</th>\n",
       "      <td>0.0</td>\n",
       "      <td>0.0</td>\n",
       "      <td>0.0</td>\n",
       "      <td>0.0</td>\n",
       "      <td>0.0</td>\n",
       "      <td>0.0</td>\n",
       "      <td>0.0</td>\n",
       "      <td>0.0</td>\n",
       "      <td>1.0</td>\n",
       "    </tr>\n",
       "  </tbody>\n",
       "</table>\n",
       "</div>"
      ],
      "text/plain": [
       "   mae  mse  rmse  mape  maape  wmape  mmape  smape   r2\n",
       "0  0.0  0.0   0.0   0.0    0.0    0.0    0.0    0.0  1.0"
      ]
     },
     "execution_count": 13,
     "metadata": {},
     "output_type": "execute_result"
    }
   ],
   "source": [
    "#Se presentan las nuevas metricas con los datos actualizados quitando el outlier\n",
    "df_temp = pd.DataFrame(\n",
    "    {\n",
    "        'y':y4_test,\n",
    "        'yhat': model_rl4_nuevo.predict(X4_test)\n",
    "        }\n",
    ")\n",
    "df_metrica4 = summary_metrics(df_temp)\n",
    "df_metrica4['r2'] =  round(r2_score(y4_test, model_rl4_nuevo.predict(X4_test)),4)\n",
    "df_metrica4.set_index(pd.Series({'Grupo_4':'Grupo_4'}))\n",
    "df_metrica4"
   ]
  },
  {
   "cell_type": "markdown",
   "metadata": {},
   "source": [
    "Se observa que con la estrategia proouesta, el ajuste lineal resulta perfecto para el Grupo_04"
   ]
  }
 ],
 "metadata": {
  "kernelspec": {
   "display_name": "Python 3",
   "language": "python",
   "name": "python3"
  },
  "language_info": {
   "codemirror_mode": {
    "name": "ipython",
    "version": 3
   },
   "file_extension": ".py",
   "mimetype": "text/x-python",
   "name": "python",
   "nbconvert_exporter": "python",
   "pygments_lexer": "ipython3",
   "version": "3.7.8"
  }
 },
 "nbformat": 4,
 "nbformat_minor": 4
}
